{
  "nbformat": 4,
  "nbformat_minor": 0,
  "metadata": {
    "colab": {
      "provenance": []
    },
    "kernelspec": {
      "name": "python3",
      "display_name": "Python 3"
    },
    "language_info": {
      "name": "python"
    }
  },
  "cells": [
    {
      "cell_type": "markdown",
      "source": [
        "# **Credit Score Classification with Machine Learning**\n",
        "\n",
        "Financial institutions, such as banks and credit card companies, rely on credit scores to assess an individual's creditworthiness. These numerical scores serve as a crucial factor in determining whether to approve or deny loan applications and credit card issuances. In the modern era, banks and credit card companies have embraced Machine Learning algorithms to automate the process of classifying their vast customer databases based on credit histories. If you're interested in learning how to apply Machine Learning techniques for credit score classification, this article is tailored for you. Throughout this article, we'll delve into the task of credit score classification using Machine Learning algorithms implemented in Python.\n",
        "\n",
        "# **Credit Score Classification**\n",
        "\n",
        "There are three credit scores that banks and credit card companies use to label their customers:\n",
        "\n",
        "1. Good\n",
        "2. Standard\n",
        "3. Poor\n",
        "\n",
        "A person with a good credit score will get loans from any bank and financial institution. For the task of Credit Score Classification, we need a labelled dataset with credit scores.\n",
        "\n",
        "In the section below, I will take you through the task of credit score classification with Machine Learning using Python."
      ],
      "metadata": {
        "id": "WZcoawxwJHdn"
      }
    },
    {
      "cell_type": "markdown",
      "source": [
        "# **Credit Score Classification: Case Study**\n",
        "The credit score of a person determines the creditworthiness of the person. It helps financial companies determine if you can repay the loan or credit you are applying for.\n",
        "\n",
        "Here is a dataset based on the credit score classification. Below are all the features in the dataset:\n",
        "\n",
        "1. ID: Unique ID of the record\n",
        "2. Customer_ID: Unique ID of the customer\n",
        "3. Month: Month of the year\n",
        "4. Name: The name of the person\n",
        "5. Age: The age of the person\n",
        "6. SSN: Social Security Number of the person\n",
        "7. Occupation: The occupation of the person\n",
        "8. Annual_Income: The Annual Income of the person\n",
        "9. Monthly_Inhand_Salary: Monthly in-hand salary of the person\n",
        "10. Num_Bank_Accounts: The number of bank accounts of the person\n",
        "11. Num_Credit_Card: Number of credit cards the person is having\n",
        "12. Interest_Rate: The interest rate on the credit card of the person\n",
        "13. Num_of_Loan: The number of loans taken by the person from the bank\n",
        "14. Type_of_Loan: The types of loans taken by the person from the bank\n",
        "15. Delay_from_due_date: The average number of days delayed by the person from the date of payment\n",
        "16. Num_of_Delayed_Payment: Number of payments delayed by the person\n",
        "17. Changed_Credit_Card: The percentage change in the credit card limit of the person\n",
        "18. Num_Credit_Inquiries: The number of credit card inquiries by the person\n",
        "19. Credit_Mix: Classification of Credit Mix of the customer\n",
        "20. Outstanding_Debt: The outstanding balance of the person\n",
        "21. Credit_Utilization_Ratio: The credit utilization ratio of the credit card of the customer\n",
        "22. Credit_History_Age: The age of the credit history of the person\n",
        "23. Payment_of_Min_Amount: Yes if the person paid the minimum amount to be paid only, otherwise no.\n",
        "24. Total_EMI_per_month: The total EMI per month of the person\n",
        "25. Amount_invested_monthly: The monthly amount invested by the person\n",
        "26. Payment_Behaviour: The payment behaviour of the person\n",
        "27. Monthly_Balance: The monthly balance left in the account of the person\n",
        "29. Credit_Score: The credit score of the person\n",
        "\n",
        "The Credit_Score column is the target variable in this problem. You are required to find relationships based on how banks classify credit scores and train a model to classify the credit score of a person."
      ],
      "metadata": {
        "id": "s_KduApGHo63"
      }
    },
    {
      "cell_type": "code",
      "source": [
        "# Import required libraries\n",
        "import pandas as pd  # For data manipulation and analysis\n",
        "import numpy as np  # For numerical operations\n",
        "import plotly.express as px  # For creating interactive data visualizations\n",
        "import plotly.graph_objects as go  # For creating and customizing Plotly figures\n",
        "import plotly.io as pio  # For configuring Plotly's default settings\n",
        "\n",
        "# Set the default Plotly template to a clean, white background\n",
        "pio.templates.default = \"plotly_white\"\n",
        "\n",
        "# Read the credit score dataset from the specified file path\n",
        "data = pd.read_csv(\"/content/drive/MyDrive/Dataset/credit-score.csv\")\n",
        "\n",
        "# Print the first few rows of the dataset to get a glimpse of the data\n",
        "print(data.head())"
      ],
      "metadata": {
        "colab": {
          "base_uri": "https://localhost:8080/"
        },
        "id": "89y4xgAbKizW",
        "outputId": "6ca63b94-3334-4aee-e535-ef224e7ced3d"
      },
      "execution_count": 4,
      "outputs": [
        {
          "output_type": "stream",
          "name": "stdout",
          "text": [
            "     ID  Customer_ID  Month          Name  Age        SSN Occupation  \\\n",
            "0  5634         3392      1  Cloud Strife   23  821000265  Scientist   \n",
            "1  5635         3392      2  Cloud Strife   23  821000265  Scientist   \n",
            "2  5636         3392      3  Cloud Strife   23  821000265  Scientist   \n",
            "3  5637         3392      4  Cloud Strife   23  821000265  Scientist   \n",
            "4  5638         3392      5  Cloud Strife   23  821000265  Scientist   \n",
            "\n",
            "   Annual_Income  Monthly_Inhand_Salary  Num_Bank_Accounts  ...  Credit_Mix  \\\n",
            "0       19114.12            1824.843333                  3  ...        Good   \n",
            "1       19114.12            1824.843333                  3  ...        Good   \n",
            "2       19114.12            1824.843333                  3  ...        Good   \n",
            "3       19114.12            1824.843333                  3  ...        Good   \n",
            "4       19114.12            1824.843333                  3  ...        Good   \n",
            "\n",
            "   Outstanding_Debt  Credit_Utilization_Ratio Credit_History_Age  \\\n",
            "0            809.98                 26.822620                265   \n",
            "1            809.98                 31.944960                266   \n",
            "2            809.98                 28.609352                267   \n",
            "3            809.98                 31.377862                268   \n",
            "4            809.98                 24.797347                269   \n",
            "\n",
            "   Payment_of_Min_Amount  Total_EMI_per_month  Amount_invested_monthly  \\\n",
            "0                     No            49.574949                 21.46538   \n",
            "1                     No            49.574949                 21.46538   \n",
            "2                     No            49.574949                 21.46538   \n",
            "3                     No            49.574949                 21.46538   \n",
            "4                     No            49.574949                 21.46538   \n",
            "\n",
            "                  Payment_Behaviour Monthly_Balance  Credit_Score  \n",
            "0   High_spent_Small_value_payments      312.494089          Good  \n",
            "1    Low_spent_Large_value_payments      284.629163          Good  \n",
            "2   Low_spent_Medium_value_payments      331.209863          Good  \n",
            "3    Low_spent_Small_value_payments      223.451310          Good  \n",
            "4  High_spent_Medium_value_payments      341.489231          Good  \n",
            "\n",
            "[5 rows x 28 columns]\n"
          ]
        }
      ]
    },
    {
      "cell_type": "markdown",
      "source": [
        "Let’s have a look at the information about the columns in the dataset:"
      ],
      "metadata": {
        "id": "sfTiimJedcx0"
      }
    },
    {
      "cell_type": "code",
      "execution_count": 5,
      "metadata": {
        "colab": {
          "base_uri": "https://localhost:8080/"
        },
        "id": "LkTwUPEHGpMZ",
        "outputId": "6eb2add0-8e7e-4ae3-b25f-33d7462819aa"
      },
      "outputs": [
        {
          "output_type": "stream",
          "name": "stdout",
          "text": [
            "<class 'pandas.core.frame.DataFrame'>\n",
            "RangeIndex: 100000 entries, 0 to 99999\n",
            "Data columns (total 28 columns):\n",
            " #   Column                    Non-Null Count   Dtype  \n",
            "---  ------                    --------------   -----  \n",
            " 0   ID                        100000 non-null  int64  \n",
            " 1   Customer_ID               100000 non-null  int64  \n",
            " 2   Month                     100000 non-null  int64  \n",
            " 3   Name                      100000 non-null  object \n",
            " 4   Age                       100000 non-null  int64  \n",
            " 5   SSN                       100000 non-null  int64  \n",
            " 6   Occupation                100000 non-null  object \n",
            " 7   Annual_Income             100000 non-null  float64\n",
            " 8   Monthly_Inhand_Salary     100000 non-null  float64\n",
            " 9   Num_Bank_Accounts         100000 non-null  int64  \n",
            " 10  Num_Credit_Card           100000 non-null  int64  \n",
            " 11  Interest_Rate             100000 non-null  int64  \n",
            " 12  Num_of_Loan               100000 non-null  int64  \n",
            " 13  Type_of_Loan              100000 non-null  object \n",
            " 14  Delay_from_due_date       100000 non-null  int64  \n",
            " 15  Num_of_Delayed_Payment    100000 non-null  int64  \n",
            " 16  Changed_Credit_Limit      100000 non-null  float64\n",
            " 17  Num_Credit_Inquiries      100000 non-null  int64  \n",
            " 18  Credit_Mix                100000 non-null  object \n",
            " 19  Outstanding_Debt          100000 non-null  float64\n",
            " 20  Credit_Utilization_Ratio  100000 non-null  float64\n",
            " 21  Credit_History_Age        100000 non-null  int64  \n",
            " 22  Payment_of_Min_Amount     100000 non-null  object \n",
            " 23  Total_EMI_per_month       100000 non-null  float64\n",
            " 24  Amount_invested_monthly   100000 non-null  float64\n",
            " 25  Payment_Behaviour         100000 non-null  object \n",
            " 26  Monthly_Balance           100000 non-null  float64\n",
            " 27  Credit_Score              100000 non-null  object \n",
            "dtypes: float64(8), int64(13), object(7)\n",
            "memory usage: 21.4+ MB\n",
            "None\n"
          ]
        }
      ],
      "source": [
        "# Import required libraries\n",
        "import pandas as pd\n",
        "import numpy as np\n",
        "import plotly.express as px\n",
        "import plotly.graph_objects as go\n",
        "import plotly.io as pio\n",
        "\n",
        "# Set the default Plotly template to a clean, white background\n",
        "pio.templates.default = \"plotly_white\"\n",
        "\n",
        "# Read the credit score dataset from the specified file path\n",
        "data = pd.read_csv(\"/content/drive/MyDrive/Dataset/credit-score.csv\")\n",
        "\n",
        "# Print information about the dataset, including column names, data types, and non-null counts\n",
        "print(data.info())"
      ]
    },
    {
      "cell_type": "markdown",
      "source": [
        "Prior to any subsequent steps, let's verify the dataset's completeness by identifying and addressing any null or missing data points."
      ],
      "metadata": {
        "id": "q_5pZFoRJD20"
      }
    },
    {
      "cell_type": "code",
      "source": [
        "# Import required libraries\n",
        "import pandas as pd\n",
        "import numpy as np\n",
        "import plotly.express as px\n",
        "import plotly.graph_objects as go\n",
        "import plotly.io as pio\n",
        "\n",
        "# Set the default Plotly template to a clean, white background\n",
        "pio.templates.default = \"plotly_white\"\n",
        "\n",
        "# Read the credit score dataset from the specified file path\n",
        "data = pd.read_csv(\"/content/drive/MyDrive/Dataset/credit-score.csv\")\n",
        "\n",
        "# Check for the presence of null values in each column of the dataset\n",
        "print(data.isnull().sum())"
      ],
      "metadata": {
        "colab": {
          "base_uri": "https://localhost:8080/"
        },
        "id": "u2GB4lbFghiM",
        "outputId": "d54ff76a-0672-4bfa-8691-60ce365386f5"
      },
      "execution_count": 7,
      "outputs": [
        {
          "output_type": "stream",
          "name": "stdout",
          "text": [
            "ID                          0\n",
            "Customer_ID                 0\n",
            "Month                       0\n",
            "Name                        0\n",
            "Age                         0\n",
            "SSN                         0\n",
            "Occupation                  0\n",
            "Annual_Income               0\n",
            "Monthly_Inhand_Salary       0\n",
            "Num_Bank_Accounts           0\n",
            "Num_Credit_Card             0\n",
            "Interest_Rate               0\n",
            "Num_of_Loan                 0\n",
            "Type_of_Loan                0\n",
            "Delay_from_due_date         0\n",
            "Num_of_Delayed_Payment      0\n",
            "Changed_Credit_Limit        0\n",
            "Num_Credit_Inquiries        0\n",
            "Credit_Mix                  0\n",
            "Outstanding_Debt            0\n",
            "Credit_Utilization_Ratio    0\n",
            "Credit_History_Age          0\n",
            "Payment_of_Min_Amount       0\n",
            "Total_EMI_per_month         0\n",
            "Amount_invested_monthly     0\n",
            "Payment_Behaviour           0\n",
            "Monthly_Balance             0\n",
            "Credit_Score                0\n",
            "dtype: int64\n"
          ]
        }
      ]
    },
    {
      "cell_type": "markdown",
      "source": [
        "Since the dataset is devoid of any null values, we can proceed to examine the values within the 'Credit_Score' column, as this dataset is labeled."
      ],
      "metadata": {
        "id": "8iViSFn9g8y6"
      }
    },
    {
      "cell_type": "code",
      "source": [
        "# Import required libraries\n",
        "import pandas as pd\n",
        "import numpy as np\n",
        "import plotly.express as px\n",
        "import plotly.graph_objects as go\n",
        "import plotly.io as pio\n",
        "\n",
        "# Set the default Plotly template to a clean, white background\n",
        "pio.templates.default = \"plotly_white\"\n",
        "\n",
        "# Read the credit score dataset from the specified file path\n",
        "data = pd.read_csv(\"/content/drive/MyDrive/Dataset/credit-score.csv\")\n",
        "\n",
        "# Get the count of unique values in the 'Credit_Score' column\n",
        "data[\"Credit_Score\"].value_counts()"
      ],
      "metadata": {
        "colab": {
          "base_uri": "https://localhost:8080/"
        },
        "id": "_M9_o4lWgpwJ",
        "outputId": "e1308c2f-e5a9-42db-fc05-3985f35303e4"
      },
      "execution_count": 8,
      "outputs": [
        {
          "output_type": "execute_result",
          "data": {
            "text/plain": [
              "Standard    53174\n",
              "Poor        28998\n",
              "Good        17828\n",
              "Name: Credit_Score, dtype: int64"
            ]
          },
          "metadata": {},
          "execution_count": 8
        }
      ]
    }
  ]
}